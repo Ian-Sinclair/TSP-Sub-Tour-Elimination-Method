{
 "cells": [
  {
   "cell_type": "markdown",
   "metadata": {},
   "source": [
    "#### If the math looks weird run code below and restart the notebook."
   ]
  },
  {
   "cell_type": "code",
   "execution_count": 5,
   "metadata": {},
   "outputs": [
    {
     "name": "stdout",
     "output_type": "stream",
     "text": [
      "Requirement already satisfied: mathjax in c:\\users\\iansi\\.conda\\envs\\env\\lib\\site-packages (0.1.2)\n",
      "Note: you may need to restart the kernel to use updated packages.\n"
     ]
    }
   ],
   "source": [
    "%pip install mathjax"
   ]
  },
  {
   "cell_type": "markdown",
   "metadata": {},
   "source": [
    "\n",
    "# traveling salesman problem (TSP)"
   ]
  },
  {
   "cell_type": "markdown",
   "metadata": {},
   "source": [
    "## Introduction"
   ]
  },
  {
   "cell_type": "markdown",
   "metadata": {},
   "source": [
    "> The travelling salesman problem (TSP) seeks to the find the minimum cost hamiltonian circuit in an undirected graph, $G_n$.\n",
    "\n",
    "> Or more generally, given a list of $n$ cities, finds the fastest way to visit every city once and then return to the first city."
   ]
  },
  {
   "cell_type": "markdown",
   "metadata": {},
   "source": [
    "### Problem Formulation"
   ]
  },
  {
   "cell_type": "markdown",
   "metadata": {},
   "source": [
    "> Let $I$ be a set of $n$ cities\n",
    "\n",
    "> Then, define an arc $C_{i,j}$ where $i,j\\in I$ exists if it is possible to travel from city $i$ to city $j$. And is weighted by the travel time from city $i$ to city $j$.\n",
    "\n",
    "> Next, let $X_{i,j}$ be a variable such that,\n",
    "$$ X_{i,j} = \\begin{cases}\n",
    "                1&\\text{City $i$ connects to City $j$ is the hamiltonian circuit}\n",
    "                \\\\0&\\text{Otherwise}\n",
    "            \\end{cases} $$\n",
    "\n",
    "> In a traditional TSP, it is possible to travel from any city to any other city, making a $n$ complete graph, $K_n$. $\\\\$\n",
    "This means there are $n \\choose 2$ total arcs. $\\\\$\n",
    "And so there are, \n",
    "$$\n",
    "    |H(K_n)| = \\frac{1}{2}(n-1)!\n",
    "$$ \n",
    "\n",
    ">total hamiltonian cycles in $K_n$ $\\\\$\n",
    "\n",
    "> This means that a brute force solution runs in exponential time, and is generally NP-Complete.\n",
    "\n",
    "> This means that the brute force solution has poor scalability, in fact for higher values of $n$ the solution could take years. $\\\\$\n",
    "Critically; however, the problem can be cast as a network optimization problem from an adaptation of minimum spanning trees, which is potentially capable of solving the problem much faster.\n"
   ]
  },
  {
   "cell_type": "markdown",
   "metadata": {},
   "source": [
    "### Integer Programming Model Local Constraints"
   ]
  },
  {
   "cell_type": "markdown",
   "metadata": {},
   "source": [
    "> Here we conver the basic formulation for a minimum tour problem.\n",
    "\n",
    "#### Parameters\n",
    "\n",
    "> Let $I$ for a list of $n$ cities.\n",
    "\n",
    "> Let $C_{i,j}$ be the cost of moving from city $i$ to city $j$ (in travel time by road route).\n",
    "\n",
    "#### Variables :\n",
    "\n",
    "> Let $X_{i,j}\\in{0,1}$ be a binary variable determining if arc $C_{i,j}$ is used in the Hamiltonian circuit.\n",
    "$$ X_{i,j} = \\begin{cases}\n",
    "    1&\\text{City $i$ connects to City $j$ is the hamiltonian circuit}\n",
    "    \\\\0&\\text{Otherwise}\n",
    "\\end{cases} $$\n",
    "> Then the goal is to find the least cost way to vitis every city starting and returning to city $1$.\n",
    "\n",
    "#### Objective Function\n",
    "\n",
    ">Let the cost of any circuit be,\n",
    "$$\n",
    "    \\min\\sum_{i\\in I}\\sum_{j\\in I}C_{i,j}X_{i,j}\n",
    "$$\n",
    "\n",
    "#### Local Constraints\n",
    "\n",
    "> Subject to the constraints,\n",
    "\n",
    ">> Entering every city only once: \n",
    "$$\n",
    "    \\sum_{i \\in I}X_{i,j}=1, \\quad\\quad \\forall j\\in I\n",
    "$$\n",
    "\n",
    ">> Leaving every city only once:\n",
    "$$\n",
    "    \\sum_{k\\in I}X_{j,k}=1, \\quad\\quad \\forall j\\in I\n",
    "$$\n",
    "\n",
    ">> Don't stay at one city:\n",
    "$$\n",
    "    X_{i,i} = 0, \\quad\\quad \\forall i\\in I\n",
    "$$"
   ]
  },
  {
   "cell_type": "markdown",
   "metadata": {},
   "source": [
    "### Sub Tour Problems"
   ]
  },
  {
   "cell_type": "markdown",
   "metadata": {},
   "source": [
    "> Unfortunately, the local constraints above are not restrictive enough to eliminate all solutions that do not generate Hamiltonian circuits. In particular, it is still possible to get sub-tours that contribute to the final solution\n",
    "\n",
    "![Image_of_sub-tours_Didn't_load_correctly...](subTour_Image.png)\n",
    "\n"
   ]
  },
  {
   "cell_type": "markdown",
   "metadata": {},
   "source": [
    "> Therefore, extra constraints should be added to prevent sub-tours in the final solution."
   ]
  },
  {
   "cell_type": "markdown",
   "metadata": {},
   "source": [
    "## Miller-Tucker-Zemlin 1960 (MTZ) Sub-tour Elimination"
   ]
  },
  {
   "cell_type": "markdown",
   "metadata": {},
   "source": [
    "> One of the best methods to eliminate sub-tours is using the Miller-Tucker-Zemlin (MTZ) approach. Which adds a new time variable $t$, indicating at which point each city is visited in sequence."
   ]
  },
  {
   "cell_type": "markdown",
   "metadata": {},
   "source": [
    "#### New Parameter\n",
    "\n",
    "> First fix some ordering on the list of cities $I$, and let $V = \\{1,2,\\cdots,n\\}$ be that order. So for some $i\\in V$, $i = 1,2,\\cdots,n$ for $n$ cities. $\\\\$\n",
    "Then, for $i\\in V$ let $i$ denote either an integer, or a city $i\\in I$.\n",
    "\n",
    "#### Variable\n",
    "\n",
    "> Next define the time variable, $t_i$ by the time in sequence that city $i$ is visited.\n",
    "\n",
    "> As a result,\n",
    "$$\n",
    "    \\text{if } X_{i,j}=1, \\quad \\text{ then } \\quad t_j \\geq t_i+1, \\quad\\quad i,j\\neq 1\n",
    "$$"
   ]
  },
  {
   "cell_type": "markdown",
   "metadata": {},
   "source": [
    "> This abuses notation a bit, but in general the $i,j$ associated with $X_{i,j}$ are city names. And, the $i,j$ associated with $t_j,t_i$ are integers associated with the ordering on $I$,"
   ]
  },
  {
   "cell_type": "markdown",
   "metadata": {},
   "source": [
    "> Notice intuitively, this works by restricting a sequence on the order we visit each city. Or rather if we visit cities in the order, $i_1,i_2,\\cdots,i_{n-1}$ then,\n",
    "$$\n",
    "t_{i_1}=1,t_{i_2}=2,t_{i_3}=3,\\cdots,t_{i_{n-1}}=n-1,\n",
    "$$"
   ]
  },
  {
   "cell_type": "markdown",
   "metadata": {},
   "source": [
    "> Then, suppose a sub tour exists, such that, $\\exists a,b,c\\in I$ where $X_{a,b}=X_{b,c}=X_{c,a}=1$ (cycle $C_3$). and none of the cities $a,b,c$ are the originating city. ($a,b,c\\neq 1$). $\\\\$\n",
    "Then, the time sequence constraints impose,\n",
    "$$\n",
    "    \\begin{cases}\n",
    "        t_b \\geq t_a+1\\\\\n",
    "        t_c \\geq t_b+1\\\\\n",
    "        t_a \\geq t_c+1\n",
    "    \\end{cases}\n",
    "$$\n",
    "\n",
    "> Which has no solution. Similar logic can be applied to any sub-tour, ($C_k$), and so this method effectively eliminates sub-tours from the optimal solution."
   ]
  },
  {
   "cell_type": "markdown",
   "metadata": {},
   "source": [
    "> Lastly, consider how to encode the 'if' statement, \n",
    "$$\n",
    "    \\text{if } X_{i,j}=1, \\quad \\text{ then } \\quad t_j \\geq t_i+1, \\quad\\quad i,j\\neq 1\n",
    "$$\n",
    "\n",
    ">As a constraint\n",
    "\n",
    "> In particular, consider,\n",
    "\n",
    "$$\n",
    "\\begin{cases}\n",
    "    t_j \\geq t_i+1 &X_{i,j}=1\\\\\n",
    "    t_j \\text{ Unrestricted }& X_{i,j} = 0\n",
    "\\end{cases}\n",
    "$$"
   ]
  },
  {
   "cell_type": "markdown",
   "metadata": {},
   "source": [
    "> And so consider the following constraint,\n",
    "$$\n",
    "    t_j \\geq t_i+1-M(1-X_{i,j})\n",
    "$$\n",
    "\n",
    "> For large $M$."
   ]
  },
  {
   "cell_type": "markdown",
   "metadata": {},
   "source": [
    "> Actually because it has been shown that there exists an ordering that ensures \n",
    "$$\n",
    "    \\max_{i\\in V}t_i = n-1\n",
    "$$\n",
    "\n",
    "> Then selecting $M=n$ is sufficient to guarantee that an optimal Hamiltonian Circuit can satisfy the constraints."
   ]
  },
  {
   "cell_type": "markdown",
   "metadata": {},
   "source": [
    "## Final Problem Formulation\n",
    "\n",
    "### Parameters\n",
    "\n",
    "> $I$ be a set of $n$ cities.\n",
    "\n",
    "> $V$ be an ordering on $I$ such that, $i\\in I$ is either an integer $i$, or the $i'th$ city in the ordering of $I$.\n",
    "\n",
    "> Let $C_{i,j}$ be the cost of moving from city $i$ to city $j$ (in travel time by road route).\n",
    "\n",
    "### Variables\n",
    "\n",
    "> Let $X_{i,j}\\in \\{0,1\\}$ be a binary variable if we travel from city $i$ to city $j$ in the tour.\n",
    "$$ X_{i,j} = \\begin{cases}\n",
    "    1&\\text{City $i$ connects to City $j$ is the hamiltonian circuit}\n",
    "    \\\\0&\\text{Otherwise}\n",
    "\\end{cases} $$\n",
    "\n",
    "> Let $t_i$ be the time city $i$ is visited in the tour. For $i\\in V$ is an integer.\n",
    "\n",
    "### Objective Function\n",
    "\n",
    ">Let the cost of any circuit be,\n",
    "$$\n",
    "    \\min\\sum_{i\\in I}\\sum_{j\\in I}C_{i,j}X_{i,j}\n",
    "$$\n",
    "\n",
    "### Local Constraints\n",
    "\n",
    ">> Entering every city only once: \n",
    "$$\n",
    "    \\sum_{i \\in I}X_{i,j}=1, \\quad\\quad \\forall j\\in I\n",
    "$$\n",
    "\n",
    ">> Leaving every city only once:\n",
    "$$\n",
    "    \\sum_{k\\in I}X_{j,k}=1, \\quad\\quad \\forall j\\in I\n",
    "$$\n",
    "\n",
    ">> Don't stay at one city:\n",
    "$$\n",
    "    X_{i,i} = 0, \\quad\\quad \\forall i\\in I\n",
    "$$\n",
    "\n",
    "### MTZ Constraints\n",
    "\n",
    ">> Sub-tour elimination\n",
    "$$\n",
    "    t_j \\geq t_i+1-n(1-X_{i,j}), \\quad\\quad \\forall i,j\\in V, \\quad j>i\n",
    "$$\n",
    "\n",
    ">> Circuit completeness\n",
    "$$\n",
    "    t_1 = 1\n",
    "$$\n",
    "\n",
    "\n"
   ]
  },
  {
   "cell_type": "markdown",
   "metadata": {},
   "source": [
    "> The following is a file to run a TSP problem with MTZ constraint solution method. Using default parameters all results are already included in the project package. And so running any portion of the the following is optional."
   ]
  },
  {
   "cell_type": "markdown",
   "metadata": {},
   "source": [
    "# Instructions"
   ]
  },
  {
   "cell_type": "markdown",
   "metadata": {},
   "source": [
    "This file contains automation for running the Traveling Salesman Problem (TSP) program for user selected cities.\n",
    "\n",
    "Note: this file uses a lot of python dependencies and API's and so is dependent on API keys and package installs.\n",
    "Importantly, all cells generate a file that is already included in the project folder, and so unless you want to change\n",
    "the default cities, running every cell is not necessary.\n",
    "\n",
    "On a high level each section does the following:\n",
    "\n",
    "    >section: 'city information' >>collects which cities to use for the TSP (you can update this list)\n",
    "\n",
    "    >section: 'Data Collection' >>converts the list of city information to longitude latitude coordinates,\n",
    "                                then calculates the travel time between all city pairs. Making a $K_n$ complete\n",
    "                                graph. (for $n$ cities).\n",
    "                                Importantly, the length of each arc, $C_{i,j}$ is the travel time from city $i$\n",
    "                                to city $j$, based on the best estimated road distance between cities.\n",
    "                                And so cities that do not have feasible driving routes will not be able to \n",
    "                                be connected.\n",
    "                                Data is collected from DistanceMatrix.ai API, https://distancematrix.ai/\n",
    "\n",
    "    >section: 'AMPL solution' >>first generates a new .dat file using the distance matrix from the previous section.\n",
    "                                Then, solves the TSP using Miller-Tucker-Zemlin (MTZ) method.\n",
    "                                The result of which is printed to file 'TSP_MTZ_TOUR_Result.txt'.\n",
    "\n",
    "    >section: 'Display result' >>uses the file generated from the AMPL solution to print the optimal tour, and display\n",
    "                                the tour on the US map."
   ]
  },
  {
   "cell_type": "markdown",
   "metadata": {},
   "source": [
    "# Dependencies"
   ]
  },
  {
   "cell_type": "markdown",
   "metadata": {},
   "source": [
    "> You will probably need to restart the kernal after install dependencies."
   ]
  },
  {
   "cell_type": "code",
   "execution_count": 12,
   "metadata": {},
   "outputs": [
    {
     "name": "stdout",
     "output_type": "stream",
     "text": [
      "Requirement already satisfied: pip in c:\\users\\iansi\\.conda\\envs\\env\\lib\\site-packages (21.1.1)\n",
      "Note: you may need to restart the kernel to use updated packages.\n",
      "Requirement already satisfied: docopt==0.6.2 in c:\\users\\iansi\\.conda\\envs\\env\\lib\\site-packages (0.6.2)\n",
      "Note: you may need to restart the kernel to use updated packages.\n",
      "Requirement already satisfied: future==0.18.2 in c:\\users\\iansi\\.conda\\envs\\env\\lib\\site-packages (0.18.2)\n",
      "Note: you may need to restart the kernel to use updated packages.\n",
      "Requirement already satisfied: geographiclib==2.0 in c:\\users\\iansi\\.conda\\envs\\env\\lib\\site-packages (2.0)\n",
      "Note: you may need to restart the kernel to use updated packages.\n",
      "Requirement already satisfied: geopy==2.3.0 in c:\\users\\iansi\\.conda\\envs\\env\\lib\\site-packages (2.3.0)\n",
      "Requirement already satisfied: geographiclib<3,>=1.52 in c:\\users\\iansi\\.conda\\envs\\env\\lib\\site-packages (from geopy==2.3.0) (2.0)\n",
      "Note: you may need to restart the kernel to use updated packages.\n",
      "Requirement already satisfied: idna==3.4 in c:\\users\\iansi\\.conda\\envs\\env\\lib\\site-packages (3.4)\n",
      "Note: you may need to restart the kernel to use updated packages.\n",
      "Requirement already satisfied: joblib==1.2.0 in c:\\users\\iansi\\.conda\\envs\\env\\lib\\site-packages (1.2.0)\n",
      "Note: you may need to restart the kernel to use updated packages.\n",
      "Requirement already satisfied: matplotlib==3.6.2 in c:\\users\\iansi\\.conda\\envs\\env\\lib\\site-packages (3.6.2)\n",
      "Requirement already satisfied: kiwisolver>=1.0.1 in c:\\users\\iansi\\.conda\\envs\\env\\lib\\site-packages (from matplotlib==3.6.2) (1.4.4)\n",
      "Requirement already satisfied: contourpy>=1.0.1 in c:\\users\\iansi\\.conda\\envs\\env\\lib\\site-packages (from matplotlib==3.6.2) (1.0.6)\n",
      "Requirement already satisfied: packaging>=20.0 in c:\\users\\iansi\\.conda\\envs\\env\\lib\\site-packages (from matplotlib==3.6.2) (21.3)\n",
      "Requirement already satisfied: pillow>=6.2.0 in c:\\users\\iansi\\.conda\\envs\\env\\lib\\site-packages (from matplotlib==3.6.2) (9.3.0)\n",
      "Requirement already satisfied: numpy>=1.19 in c:\\users\\iansi\\.conda\\envs\\env\\lib\\site-packages (from matplotlib==3.6.2) (1.23.3)\n",
      "Requirement already satisfied: fonttools>=4.22.0 in c:\\users\\iansi\\.conda\\envs\\env\\lib\\site-packages (from matplotlib==3.6.2) (4.38.0)\n",
      "Requirement already satisfied: python-dateutil>=2.7 in c:\\users\\iansi\\.conda\\envs\\env\\lib\\site-packages (from matplotlib==3.6.2) (2.8.2)\n",
      "Requirement already satisfied: cycler>=0.10 in c:\\users\\iansi\\.conda\\envs\\env\\lib\\site-packages (from matplotlib==3.6.2) (0.11.0)\n",
      "Requirement already satisfied: pyparsing>=2.2.1 in c:\\users\\iansi\\.conda\\envs\\env\\lib\\site-packages (from matplotlib==3.6.2) (3.0.9)\n",
      "Requirement already satisfied: six>=1.5 in c:\\users\\iansi\\.conda\\envs\\env\\lib\\site-packages (from python-dateutil>=2.7->matplotlib==3.6.2) (1.16.0)\n",
      "Note: you may need to restart the kernel to use updated packages.\n",
      "Requirement already satisfied: numpy==1.23.3 in c:\\users\\iansi\\.conda\\envs\\env\\lib\\site-packages (1.23.3)Note: you may need to restart the kernel to use updated packages.\n",
      "\n",
      "Requirement already satisfied: packaging==21.3 in c:\\users\\iansi\\.conda\\envs\\env\\lib\\site-packages (21.3)Note: you may need to restart the kernel to use updated packages.\n",
      "\n",
      "Requirement already satisfied: pyparsing!=3.0.5,>=2.0.2 in c:\\users\\iansi\\.conda\\envs\\env\\lib\\site-packages (from packaging==21.3) (3.0.9)\n",
      "Requirement already satisfied: pandas==1.5.1 in c:\\users\\iansi\\.conda\\envs\\env\\lib\\site-packages (1.5.1)\n",
      "Requirement already satisfied: numpy>=1.20.3 in c:\\users\\iansi\\.conda\\envs\\env\\lib\\site-packages (from pandas==1.5.1) (1.23.3)\n",
      "Requirement already satisfied: python-dateutil>=2.8.1 in c:\\users\\iansi\\.conda\\envs\\env\\lib\\site-packages (from pandas==1.5.1) (2.8.2)\n",
      "Requirement already satisfied: pytz>=2020.1 in c:\\users\\iansi\\.conda\\envs\\env\\lib\\site-packages (from pandas==1.5.1) (2022.6)\n",
      "Requirement already satisfied: six>=1.5 in c:\\users\\iansi\\.conda\\envs\\env\\lib\\site-packages (from python-dateutil>=2.8.1->pandas==1.5.1) (1.16.0)\n",
      "Note: you may need to restart the kernel to use updated packages.\n",
      "Requirement already satisfied: plotly==5.11.0 in c:\\users\\iansi\\.conda\\envs\\env\\lib\\site-packages (5.11.0)\n",
      "Requirement already satisfied: tenacity>=6.2.0 in c:\\users\\iansi\\.conda\\envs\\env\\lib\\site-packages (from plotly==5.11.0) (8.1.0)\n",
      "Note: you may need to restart the kernel to use updated packages.\n",
      "Requirement already satisfied: pyparsing==3.0.9 in c:\\users\\iansi\\.conda\\envs\\env\\lib\\site-packages (3.0.9)\n",
      "Note: you may need to restart the kernel to use updated packages.\n",
      "Requirement already satisfied: python-dateutil==2.8.2 in c:\\users\\iansi\\.conda\\envs\\env\\lib\\site-packages (2.8.2)\n",
      "Requirement already satisfied: six>=1.5 in c:\\users\\iansi\\.conda\\envs\\env\\lib\\site-packages (from python-dateutil==2.8.2) (1.16.0)\n",
      "Note: you may need to restart the kernel to use updated packages.\n",
      "Requirement already satisfied: python-dotenv==0.21.0 in c:\\users\\iansi\\.conda\\envs\\env\\lib\\site-packages (0.21.0)\n",
      "Note: you may need to restart the kernel to use updated packages.\n",
      "Requirement already satisfied: pytz==2022.6 in c:\\users\\iansi\\.conda\\envs\\env\\lib\\site-packages (2022.6)\n",
      "Note: you may need to restart the kernel to use updated packages.\n",
      "Requirement already satisfied: requests==2.28.1 in c:\\users\\iansi\\.conda\\envs\\env\\lib\\site-packages (2.28.1)\n",
      "Requirement already satisfied: urllib3<1.27,>=1.21.1 in c:\\users\\iansi\\.conda\\envs\\env\\lib\\site-packages (from requests==2.28.1) (1.26.12)\n",
      "Requirement already satisfied: charset-normalizer<3,>=2 in c:\\users\\iansi\\.conda\\envs\\env\\lib\\site-packages (from requests==2.28.1) (2.1.1)\n",
      "Requirement already satisfied: idna<4,>=2.5 in c:\\users\\iansi\\.conda\\envs\\env\\lib\\site-packages (from requests==2.28.1) (3.4)\n",
      "Requirement already satisfied: certifi>=2017.4.17 in c:\\users\\iansi\\.conda\\envs\\env\\lib\\site-packages (from requests==2.28.1) (2022.9.24)\n",
      "Note: you may need to restart the kernel to use updated packages.\n",
      "Requirement already satisfied: threadpoolctl==3.1.0 in c:\\users\\iansi\\.conda\\envs\\env\\lib\\site-packages (3.1.0)\n",
      "Note: you may need to restart the kernel to use updated packages.\n"
     ]
    },
    {
     "ename": "",
     "evalue": "",
     "output_type": "error",
     "traceback": [
      "\u001b[1;31mCanceled future for execute_request message before replies were done"
     ]
    },
    {
     "ename": "",
     "evalue": "",
     "output_type": "error",
     "traceback": [
      "\u001b[1;31mThe Kernel crashed while executing code in the the current cell or a previous cell. Please review the code in the cell(s) to identify a possible cause of the failure. Click <a href='https://aka.ms/vscodeJupyterKernelCrash'>here</a> for more info. View Jupyter <a href='command:jupyter.viewOutput'>log</a> for further details."
     ]
    }
   ],
   "source": [
    "#  Pip install dependencies....\n",
    "%pip install pip\n",
    "%pip install mathjax\n",
    "%pip install docopt==0.6.2\n",
    "%pip install geographiclib==2.0\n",
    "%pip install geopy==2.3.0\n",
    "%pip install matplotlib==3.6.2\n",
    "%pip install numpy==1.23.3\n",
    "%pip install packaging==21.3\n",
    "%pip install pandas==1.5.1\n",
    "%pip install plotly==5.11.0\n",
    "%pip install python-dateutil==2.8.2\n",
    "%pip install python-dotenv==0.21.0\n",
    "%pip install requests==2.28.1\n",
    "%pip install threadpoolctl==3.1.0\n",
    "%pip install urllib3==1.26.12\n",
    "%pip install amplpy\n",
    "%pip install os"
   ]
  },
  {
   "cell_type": "markdown",
   "metadata": {},
   "source": [
    "# City Information"
   ]
  },
  {
   "cell_type": "markdown",
   "metadata": {},
   "source": [
    "> This section selects which cities to use as inputs. Listed are the default cities, and so all pre-set files corespond to this list.\n",
    "You can change the cities in this list and all default files will be adjusted as the notebook runs."
   ]
  },
  {
   "cell_type": "code",
   "execution_count": 1,
   "metadata": {},
   "outputs": [
    {
     "name": "stdout",
     "output_type": "stream",
     "text": [
      "['Denver', 'New York', 'Houston', 'Dallas', 'Philadelphia', 'Phoenix', 'Miami', 'Cleveland', 'San Francisco', 'Nashville', 'Greensboro', 'Lincoln', 'Seattle']\n"
     ]
    }
   ],
   "source": [
    "from main import *\n",
    "\n",
    "#  Add more cities if you want (The API is slow so it might take a while to collect data)\n",
    "cities = [\n",
    "    'Denver',\n",
    "    'New York',\n",
    "    'Houston',\n",
    "    'Dallas',\n",
    "    'Philadelphia',\n",
    "    'Phoenix',\n",
    "    'Miami',\n",
    "    'Cleveland',\n",
    "    'San Francisco',\n",
    "    'Nashville',\n",
    "    'Greensboro',\n",
    "    'Lincoln',\n",
    "    'Seattle'\n",
    "    ]\n",
    "print(cities)"
   ]
  },
  {
   "cell_type": "markdown",
   "metadata": {},
   "source": [
    "# Data Generation"
   ]
  },
  {
   "cell_type": "markdown",
   "metadata": {},
   "source": [
    "> This section prepares information from cities list.\n",
    "\n",
    "> First by creating a list of longitude/latitude coordinates for each city.\n",
    "\n",
    "> Then creating a distance matrix for each city pair.\n",
    "(city A , city B) -> C_{A,B} = travel time from city A to city B\n",
    "\n",
    "> Travel times are based on the optimal driving route from city A to city B. \n",
    "This is collected from DistanceMatrix.ai API. https://distancematrix.ai/.\n",
    "\n",
    "> This information is then stored in a JSON file called 'DistanceMatrix.json'\n",
    "Which is read by AMPL wrapper to solve the TSP problem.\n"
   ]
  },
  {
   "cell_type": "markdown",
   "metadata": {},
   "source": [
    ">> Importantly, sometimes the API may not be able to find a route between distant cities, in this case, that corresponding arc is neglected by getting an untractable value.\n",
    "$$\n",
    "    C_{i,j}^{neglected} = 100000 \\text{ minutes }\n",
    "$$\n",
    "\n",
    "> This removes the arc from any optimal tour. If it looks like this affects the optimal solution, run the API request again and it will probably find a route for the neglected arc."
   ]
  },
  {
   "cell_type": "code",
   "execution_count": 2,
   "metadata": {},
   "outputs": [
    {
     "name": "stdout",
     "output_type": "stream",
     "text": [
      "{'Denver': (39.7392364, -104.984862), 'New York': (40.7127281, -74.0060152), 'Houston': (29.7589382, -95.3676974), 'Dallas': (32.7762719, -96.7968559), 'Philadelphia': (39.9527237, -75.1635262), 'Phoenix': (33.4484367, -112.074141), 'Miami': (25.7741728, -80.19362), 'Cleveland': (41.4996574, -81.6936772), 'San Francisco': (37.7790262, -122.419906), 'Nashville': (36.1622767, -86.7742984), 'Greensboro': (36.0726355, -79.7919754), 'Lincoln': (40.8088861, -96.7077751), 'Seattle': (47.6038321, -122.330062)}\n"
     ]
    }
   ],
   "source": [
    "# Convert City strings to coordinate location (Takes a while)\n",
    "locations = {}\n",
    "for city in cities :\n",
    "    locations[city] = LocationToCoordinate(city)\n",
    "print(locations)"
   ]
  },
  {
   "cell_type": "code",
   "execution_count": 3,
   "metadata": {},
   "outputs": [
    {
     "data": {
      "application/vnd.plotly.v1+json": {
       "config": {
        "plotlyServerURL": "https://plot.ly"
       },
       "data": [
        {
         "geo": "geo",
         "hovertemplate": "<b>%{hovertext}</b><br><br>size=%{marker.size}<br>lat=%{lat}<br>long=%{lon}<br>color=%{marker.color}<extra></extra>",
         "hovertext": [
          "Denver",
          "New York",
          "Houston",
          "Dallas",
          "Philadelphia",
          "Phoenix",
          "Miami",
          "Cleveland",
          "San Francisco",
          "Nashville",
          "Greensboro",
          "Lincoln",
          "Seattle"
         ],
         "lat": [
          39.7392364,
          40.7127281,
          29.7589382,
          32.7762719,
          39.9527237,
          33.4484367,
          25.7741728,
          41.4996574,
          37.7790262,
          36.1622767,
          36.0726355,
          40.8088861,
          47.6038321
         ],
         "legendgroup": "",
         "lon": [
          -104.984862,
          -74.0060152,
          -95.3676974,
          -96.7968559,
          -75.1635262,
          -112.074141,
          -80.19362,
          -81.6936772,
          -122.419906,
          -86.7742984,
          -79.7919754,
          -96.7077751,
          -122.330062
         ],
         "marker": {
          "color": [
           0.75,
           0.75,
           0.75,
           0.75,
           0.75,
           0.75,
           0.75,
           0.75,
           0.75,
           0.75,
           0.75,
           0.75,
           0.75
          ],
          "coloraxis": "coloraxis",
          "size": [
           0.5,
           0.5,
           0.5,
           0.5,
           0.5,
           0.5,
           0.5,
           0.5,
           0.5,
           0.5,
           0.5,
           0.5,
           0.5
          ],
          "sizemode": "area",
          "sizeref": 0.00125,
          "symbol": "circle"
         },
         "mode": "markers",
         "name": "",
         "showlegend": false,
         "type": "scattergeo"
        }
       ],
       "layout": {
        "coloraxis": {
         "cmax": 1,
         "cmin": 0,
         "colorbar": {
          "title": {
           "text": "color"
          }
         },
         "colorscale": [
          [
           0,
           "#0d0887"
          ],
          [
           0.1111111111111111,
           "#46039f"
          ],
          [
           0.2222222222222222,
           "#7201a8"
          ],
          [
           0.3333333333333333,
           "#9c179e"
          ],
          [
           0.4444444444444444,
           "#bd3786"
          ],
          [
           0.5555555555555556,
           "#d8576b"
          ],
          [
           0.6666666666666666,
           "#ed7953"
          ],
          [
           0.7777777777777778,
           "#fb9f3a"
          ],
          [
           0.8888888888888888,
           "#fdca26"
          ],
          [
           1,
           "#f0f921"
          ]
         ]
        },
        "geo": {
         "center": {},
         "domain": {
          "x": [
           0,
           1
          ],
          "y": [
           0,
           1
          ]
         },
         "fitbounds": "locations",
         "scope": "usa"
        },
        "legend": {
         "itemsizing": "constant",
         "tracegroupgap": 0
        },
        "margin": {
         "t": 60
        },
        "template": {
         "data": {
          "bar": [
           {
            "error_x": {
             "color": "#2a3f5f"
            },
            "error_y": {
             "color": "#2a3f5f"
            },
            "marker": {
             "line": {
              "color": "#E5ECF6",
              "width": 0.5
             },
             "pattern": {
              "fillmode": "overlay",
              "size": 10,
              "solidity": 0.2
             }
            },
            "type": "bar"
           }
          ],
          "barpolar": [
           {
            "marker": {
             "line": {
              "color": "#E5ECF6",
              "width": 0.5
             },
             "pattern": {
              "fillmode": "overlay",
              "size": 10,
              "solidity": 0.2
             }
            },
            "type": "barpolar"
           }
          ],
          "carpet": [
           {
            "aaxis": {
             "endlinecolor": "#2a3f5f",
             "gridcolor": "white",
             "linecolor": "white",
             "minorgridcolor": "white",
             "startlinecolor": "#2a3f5f"
            },
            "baxis": {
             "endlinecolor": "#2a3f5f",
             "gridcolor": "white",
             "linecolor": "white",
             "minorgridcolor": "white",
             "startlinecolor": "#2a3f5f"
            },
            "type": "carpet"
           }
          ],
          "choropleth": [
           {
            "colorbar": {
             "outlinewidth": 0,
             "ticks": ""
            },
            "type": "choropleth"
           }
          ],
          "contour": [
           {
            "colorbar": {
             "outlinewidth": 0,
             "ticks": ""
            },
            "colorscale": [
             [
              0,
              "#0d0887"
             ],
             [
              0.1111111111111111,
              "#46039f"
             ],
             [
              0.2222222222222222,
              "#7201a8"
             ],
             [
              0.3333333333333333,
              "#9c179e"
             ],
             [
              0.4444444444444444,
              "#bd3786"
             ],
             [
              0.5555555555555556,
              "#d8576b"
             ],
             [
              0.6666666666666666,
              "#ed7953"
             ],
             [
              0.7777777777777778,
              "#fb9f3a"
             ],
             [
              0.8888888888888888,
              "#fdca26"
             ],
             [
              1,
              "#f0f921"
             ]
            ],
            "type": "contour"
           }
          ],
          "contourcarpet": [
           {
            "colorbar": {
             "outlinewidth": 0,
             "ticks": ""
            },
            "type": "contourcarpet"
           }
          ],
          "heatmap": [
           {
            "colorbar": {
             "outlinewidth": 0,
             "ticks": ""
            },
            "colorscale": [
             [
              0,
              "#0d0887"
             ],
             [
              0.1111111111111111,
              "#46039f"
             ],
             [
              0.2222222222222222,
              "#7201a8"
             ],
             [
              0.3333333333333333,
              "#9c179e"
             ],
             [
              0.4444444444444444,
              "#bd3786"
             ],
             [
              0.5555555555555556,
              "#d8576b"
             ],
             [
              0.6666666666666666,
              "#ed7953"
             ],
             [
              0.7777777777777778,
              "#fb9f3a"
             ],
             [
              0.8888888888888888,
              "#fdca26"
             ],
             [
              1,
              "#f0f921"
             ]
            ],
            "type": "heatmap"
           }
          ],
          "heatmapgl": [
           {
            "colorbar": {
             "outlinewidth": 0,
             "ticks": ""
            },
            "colorscale": [
             [
              0,
              "#0d0887"
             ],
             [
              0.1111111111111111,
              "#46039f"
             ],
             [
              0.2222222222222222,
              "#7201a8"
             ],
             [
              0.3333333333333333,
              "#9c179e"
             ],
             [
              0.4444444444444444,
              "#bd3786"
             ],
             [
              0.5555555555555556,
              "#d8576b"
             ],
             [
              0.6666666666666666,
              "#ed7953"
             ],
             [
              0.7777777777777778,
              "#fb9f3a"
             ],
             [
              0.8888888888888888,
              "#fdca26"
             ],
             [
              1,
              "#f0f921"
             ]
            ],
            "type": "heatmapgl"
           }
          ],
          "histogram": [
           {
            "marker": {
             "pattern": {
              "fillmode": "overlay",
              "size": 10,
              "solidity": 0.2
             }
            },
            "type": "histogram"
           }
          ],
          "histogram2d": [
           {
            "colorbar": {
             "outlinewidth": 0,
             "ticks": ""
            },
            "colorscale": [
             [
              0,
              "#0d0887"
             ],
             [
              0.1111111111111111,
              "#46039f"
             ],
             [
              0.2222222222222222,
              "#7201a8"
             ],
             [
              0.3333333333333333,
              "#9c179e"
             ],
             [
              0.4444444444444444,
              "#bd3786"
             ],
             [
              0.5555555555555556,
              "#d8576b"
             ],
             [
              0.6666666666666666,
              "#ed7953"
             ],
             [
              0.7777777777777778,
              "#fb9f3a"
             ],
             [
              0.8888888888888888,
              "#fdca26"
             ],
             [
              1,
              "#f0f921"
             ]
            ],
            "type": "histogram2d"
           }
          ],
          "histogram2dcontour": [
           {
            "colorbar": {
             "outlinewidth": 0,
             "ticks": ""
            },
            "colorscale": [
             [
              0,
              "#0d0887"
             ],
             [
              0.1111111111111111,
              "#46039f"
             ],
             [
              0.2222222222222222,
              "#7201a8"
             ],
             [
              0.3333333333333333,
              "#9c179e"
             ],
             [
              0.4444444444444444,
              "#bd3786"
             ],
             [
              0.5555555555555556,
              "#d8576b"
             ],
             [
              0.6666666666666666,
              "#ed7953"
             ],
             [
              0.7777777777777778,
              "#fb9f3a"
             ],
             [
              0.8888888888888888,
              "#fdca26"
             ],
             [
              1,
              "#f0f921"
             ]
            ],
            "type": "histogram2dcontour"
           }
          ],
          "mesh3d": [
           {
            "colorbar": {
             "outlinewidth": 0,
             "ticks": ""
            },
            "type": "mesh3d"
           }
          ],
          "parcoords": [
           {
            "line": {
             "colorbar": {
              "outlinewidth": 0,
              "ticks": ""
             }
            },
            "type": "parcoords"
           }
          ],
          "pie": [
           {
            "automargin": true,
            "type": "pie"
           }
          ],
          "scatter": [
           {
            "fillpattern": {
             "fillmode": "overlay",
             "size": 10,
             "solidity": 0.2
            },
            "type": "scatter"
           }
          ],
          "scatter3d": [
           {
            "line": {
             "colorbar": {
              "outlinewidth": 0,
              "ticks": ""
             }
            },
            "marker": {
             "colorbar": {
              "outlinewidth": 0,
              "ticks": ""
             }
            },
            "type": "scatter3d"
           }
          ],
          "scattercarpet": [
           {
            "marker": {
             "colorbar": {
              "outlinewidth": 0,
              "ticks": ""
             }
            },
            "type": "scattercarpet"
           }
          ],
          "scattergeo": [
           {
            "marker": {
             "colorbar": {
              "outlinewidth": 0,
              "ticks": ""
             }
            },
            "type": "scattergeo"
           }
          ],
          "scattergl": [
           {
            "marker": {
             "colorbar": {
              "outlinewidth": 0,
              "ticks": ""
             }
            },
            "type": "scattergl"
           }
          ],
          "scattermapbox": [
           {
            "marker": {
             "colorbar": {
              "outlinewidth": 0,
              "ticks": ""
             }
            },
            "type": "scattermapbox"
           }
          ],
          "scatterpolar": [
           {
            "marker": {
             "colorbar": {
              "outlinewidth": 0,
              "ticks": ""
             }
            },
            "type": "scatterpolar"
           }
          ],
          "scatterpolargl": [
           {
            "marker": {
             "colorbar": {
              "outlinewidth": 0,
              "ticks": ""
             }
            },
            "type": "scatterpolargl"
           }
          ],
          "scatterternary": [
           {
            "marker": {
             "colorbar": {
              "outlinewidth": 0,
              "ticks": ""
             }
            },
            "type": "scatterternary"
           }
          ],
          "surface": [
           {
            "colorbar": {
             "outlinewidth": 0,
             "ticks": ""
            },
            "colorscale": [
             [
              0,
              "#0d0887"
             ],
             [
              0.1111111111111111,
              "#46039f"
             ],
             [
              0.2222222222222222,
              "#7201a8"
             ],
             [
              0.3333333333333333,
              "#9c179e"
             ],
             [
              0.4444444444444444,
              "#bd3786"
             ],
             [
              0.5555555555555556,
              "#d8576b"
             ],
             [
              0.6666666666666666,
              "#ed7953"
             ],
             [
              0.7777777777777778,
              "#fb9f3a"
             ],
             [
              0.8888888888888888,
              "#fdca26"
             ],
             [
              1,
              "#f0f921"
             ]
            ],
            "type": "surface"
           }
          ],
          "table": [
           {
            "cells": {
             "fill": {
              "color": "#EBF0F8"
             },
             "line": {
              "color": "white"
             }
            },
            "header": {
             "fill": {
              "color": "#C8D4E3"
             },
             "line": {
              "color": "white"
             }
            },
            "type": "table"
           }
          ]
         },
         "layout": {
          "annotationdefaults": {
           "arrowcolor": "#2a3f5f",
           "arrowhead": 0,
           "arrowwidth": 1
          },
          "autotypenumbers": "strict",
          "coloraxis": {
           "colorbar": {
            "outlinewidth": 0,
            "ticks": ""
           }
          },
          "colorscale": {
           "diverging": [
            [
             0,
             "#8e0152"
            ],
            [
             0.1,
             "#c51b7d"
            ],
            [
             0.2,
             "#de77ae"
            ],
            [
             0.3,
             "#f1b6da"
            ],
            [
             0.4,
             "#fde0ef"
            ],
            [
             0.5,
             "#f7f7f7"
            ],
            [
             0.6,
             "#e6f5d0"
            ],
            [
             0.7,
             "#b8e186"
            ],
            [
             0.8,
             "#7fbc41"
            ],
            [
             0.9,
             "#4d9221"
            ],
            [
             1,
             "#276419"
            ]
           ],
           "sequential": [
            [
             0,
             "#0d0887"
            ],
            [
             0.1111111111111111,
             "#46039f"
            ],
            [
             0.2222222222222222,
             "#7201a8"
            ],
            [
             0.3333333333333333,
             "#9c179e"
            ],
            [
             0.4444444444444444,
             "#bd3786"
            ],
            [
             0.5555555555555556,
             "#d8576b"
            ],
            [
             0.6666666666666666,
             "#ed7953"
            ],
            [
             0.7777777777777778,
             "#fb9f3a"
            ],
            [
             0.8888888888888888,
             "#fdca26"
            ],
            [
             1,
             "#f0f921"
            ]
           ],
           "sequentialminus": [
            [
             0,
             "#0d0887"
            ],
            [
             0.1111111111111111,
             "#46039f"
            ],
            [
             0.2222222222222222,
             "#7201a8"
            ],
            [
             0.3333333333333333,
             "#9c179e"
            ],
            [
             0.4444444444444444,
             "#bd3786"
            ],
            [
             0.5555555555555556,
             "#d8576b"
            ],
            [
             0.6666666666666666,
             "#ed7953"
            ],
            [
             0.7777777777777778,
             "#fb9f3a"
            ],
            [
             0.8888888888888888,
             "#fdca26"
            ],
            [
             1,
             "#f0f921"
            ]
           ]
          },
          "colorway": [
           "#636efa",
           "#EF553B",
           "#00cc96",
           "#ab63fa",
           "#FFA15A",
           "#19d3f3",
           "#FF6692",
           "#B6E880",
           "#FF97FF",
           "#FECB52"
          ],
          "font": {
           "color": "#2a3f5f"
          },
          "geo": {
           "bgcolor": "white",
           "lakecolor": "white",
           "landcolor": "#E5ECF6",
           "showlakes": true,
           "showland": true,
           "subunitcolor": "white"
          },
          "hoverlabel": {
           "align": "left"
          },
          "hovermode": "closest",
          "mapbox": {
           "style": "light"
          },
          "paper_bgcolor": "white",
          "plot_bgcolor": "#E5ECF6",
          "polar": {
           "angularaxis": {
            "gridcolor": "white",
            "linecolor": "white",
            "ticks": ""
           },
           "bgcolor": "#E5ECF6",
           "radialaxis": {
            "gridcolor": "white",
            "linecolor": "white",
            "ticks": ""
           }
          },
          "scene": {
           "xaxis": {
            "backgroundcolor": "#E5ECF6",
            "gridcolor": "white",
            "gridwidth": 2,
            "linecolor": "white",
            "showbackground": true,
            "ticks": "",
            "zerolinecolor": "white"
           },
           "yaxis": {
            "backgroundcolor": "#E5ECF6",
            "gridcolor": "white",
            "gridwidth": 2,
            "linecolor": "white",
            "showbackground": true,
            "ticks": "",
            "zerolinecolor": "white"
           },
           "zaxis": {
            "backgroundcolor": "#E5ECF6",
            "gridcolor": "white",
            "gridwidth": 2,
            "linecolor": "white",
            "showbackground": true,
            "ticks": "",
            "zerolinecolor": "white"
           }
          },
          "shapedefaults": {
           "line": {
            "color": "#2a3f5f"
           }
          },
          "ternary": {
           "aaxis": {
            "gridcolor": "white",
            "linecolor": "white",
            "ticks": ""
           },
           "baxis": {
            "gridcolor": "white",
            "linecolor": "white",
            "ticks": ""
           },
           "bgcolor": "#E5ECF6",
           "caxis": {
            "gridcolor": "white",
            "linecolor": "white",
            "ticks": ""
           }
          },
          "title": {
           "x": 0.05
          },
          "xaxis": {
           "automargin": true,
           "gridcolor": "white",
           "linecolor": "white",
           "ticks": "",
           "title": {
            "standoff": 15
           },
           "zerolinecolor": "white",
           "zerolinewidth": 2
          },
          "yaxis": {
           "automargin": true,
           "gridcolor": "white",
           "linecolor": "white",
           "ticks": "",
           "title": {
            "standoff": 15
           },
           "zerolinecolor": "white",
           "zerolinewidth": 2
          }
         }
        },
        "title": {
         "text": "US map",
         "x": 0.5
        }
       }
      }
     },
     "metadata": {},
     "output_type": "display_data"
    }
   ],
   "source": [
    "# Plots cities\n",
    "import plotly.express as px\n",
    "import plotly.graph_objects as go\n",
    "import pandas as pd\n",
    "import nbformat\n",
    "df = {}\n",
    "for name, coord in locations.items() :\n",
    "    df[name] = {'lat' : coord[0], 'long' : coord[1], 'color' : 0.75, 'size' : 0.5, 'name' : name}\n",
    "\n",
    "fig = px.scatter_geo(df.values(),lat='lat',lon='long', color = 'color', size = 'size', range_color = [0,1], hover_name = 'name')\n",
    "\n",
    "fig.update_geos(fitbounds=\"locations\",scope=\"usa\")\n",
    "fig.update_layout(title = 'US map', title_x=0.5)\n",
    "fig.show()"
   ]
  },
  {
   "cell_type": "markdown",
   "metadata": {},
   "source": [
    "### The following cell calculates the drive time duration between every possible city pair $(i,j)$\n",
    "\n",
    "> The API is very slow, and takes about $10$ minutes for $10$ cities.\n",
    "\n",
    "> If you kept the default cities, you do not need to run this again, because the results JSON, 'DistanceMatrix.json' is already included in the project folder.\n",
    "\n",
    "> Also, this API is generated from my personal API key, which corresponds to a free account. The API key is included in a protected .env file and automatically retrieved. I don't know how well this will work after distributing the repository. So if it doesn't work.... only the default cities can be used."
   ]
  },
  {
   "cell_type": "code",
   "execution_count": 4,
   "metadata": {},
   "outputs": [
    {
     "name": "stdout",
     "output_type": "stream",
     "text": [
      "Route Not Found:  Houston --> San Francisco\n",
      "Route Not Found:  Phoenix --> Dallas\n",
      "Route Not Found:  Seattle --> Greensboro\n",
      "Denver: [('Denver', 0.0), ('New York', 1590.05), ('Houston', 924.35), ('Dallas', 723.5333333333333), ('Philadelphia', 1554.6666666666667), ('Phoenix', 771.15), ('Miami', 1819.9333333333334), ('Cleveland', 1177.45), ('San Francisco', 1119.35), ('Nashville', 1040.4), ('Greensboro', 1439.4), ('Lincoln', 413.68333333333334), ('Seattle', 1166.9833333333333)]\n",
      "\n",
      "New York: [('Denver', 1588.2166666666667), ('New York', 0.0), ('Houston', 1447.0), ('Dallas', 1383.9333333333334), ('Philadelphia', 104.6), ('Phoenix', 2204.633333333333), ('Miami', 1129.0666666666666), ('Cleveland', 435.1333333333333), ('San Francisco', 2579.233333333333), ('Nashville', 802.6833333333333), ('Greensboro', 503.71666666666664), ('Lincoln', 1177.9166666666667), ('Seattle', 2532.4333333333334)]\n",
      "\n",
      "Houston: [('Denver', 923.45), ('New York', 1458.4666666666667), ('Houston', 0.0), ('Dallas', 209.2), ('Philadelphia', 1383.55), ('Phoenix', 1010.5666666666667), ('Miami', 1019.85), ('Cleveland', 1172.7333333333333), ('San Francisco', 100000), ('Nashville', 719.55), ('Greensboro', 991.0166666666667), ('Lincoln', 775.4), ('Seattle', 2076.5666666666666)]\n",
      "\n",
      "Dallas: [('Denver', 722.0), ('New York', 1385.2666666666667), ('Houston', 210.4), ('Dallas', 0.0), ('Philadelphia', 1310.3333333333333), ('Phoenix', 919.8), ('Miami', 1150.4333333333334), ('Cleveland', 1042.25), ('San Francisco', 1537.8166666666666), ('Nashville', 589.0666666666667), ('Greensboro', 980.6833333333333), ('Lincoln', 570.2833333333333), ('Seattle', 1875.1166666666666)]\n",
      "\n",
      "Philadelphia: [('Denver', 1552.85), ('New York', 102.81666666666666), ('Houston', 1366.2166666666667), ('Dallas', 1308.0833333333333), ('Philadelphia', 0.0), ('Phoenix', 2129.866666666667), ('Miami', 1049.4166666666667), ('Cleveland', 399.76666666666665), ('San Francisco', 2543.866666666667), ('Nashville', 726.85), ('Greensboro', 424.0833333333333), ('Lincoln', 1142.4166666666667), ('Seattle', 2497.0833333333335)]\n",
      "\n",
      "Phoenix: [('Denver', 766.6), ('New York', 2209.15), ('Houston', 1012.9833333333333), ('Dallas', 100000), ('Philadelphia', 2133.133333333333), ('Phoenix', 0.0), ('Miami', 2027.8166666666666), ('Cleveland', 1819.8833333333334), ('San Francisco', 688.9666666666667), ('Nashville', 1457.9166666666667), ('Greensboro', 1871.8833333333334), ('Lincoln', 1136.6), ('Seattle', 1295.95)]\n",
      "\n",
      "Miami: [('Denver', 1812.1), ('New York', 1116.6666666666667), ('Houston', 1010.5666666666667), ('Dallas', 1143.7333333333333), ('Philadelphia', 1035.4166666666667), ('Phoenix', 2015.3833333333334), ('Miami', 0.0), ('Cleveland', 1087.7666666666667), ('San Francisco', 2678.1833333333334), ('Nashville', 781.8333333333334), ('Greensboro', 693.2), ('Lincoln', 1469.2833333333333), ('Seattle', 2904.483333333333)]\n",
      "\n",
      "Cleveland: [('Denver', 1179.0), ('New York', 440.25), ('Houston', 1171.1833333333334), ('Dallas', 1045.2833333333333), ('Philadelphia', 404.8666666666667), ('Phoenix', 1819.0666666666666), ('Miami', 1094.75), ('Cleveland', 0.0), ('San Francisco', 2170.0333333333333), ('Nashville', 467.26666666666665), ('Greensboro', 455.6), ('Lincoln', 768.5833333333334), ('Seattle', 2123.233333333333)]\n",
      "\n",
      "San Francisco: [('Denver', 1126.8), ('New York', 2578.6666666666665), ('Houston', 1685.6), ('Dallas', 1540.6), ('Philadelphia', 2543.2833333333333), ('Phoenix', 686.0166666666667), ('Miami', 2685.5333333333333), ('Cleveland', 2166.0666666666666), ('San Francisco', 0.0), ('Nashville', 2037.4333333333334), ('Greensboro', 2451.4), ('Lincoln', 1402.3), ('Seattle', 750.1166666666667)]\n",
      "\n",
      "Nashville: [('Denver', 1038.9333333333334), ('New York', 805.1833333333333), ('Houston', 716.8166666666667), ('Dallas', 590.9166666666666), ('Philadelphia', 730.25), ('Phoenix', 1457.85), ('Miami', 787.8666666666667), ('Cleveland', 465.65), ('San Francisco', 2034.1166666666666), ('Nashville', 0.0), ('Greensboro', 422.96666666666664), ('Lincoln', 703.0833333333334), ('Seattle', 2131.3166666666666)]\n",
      "\n",
      "Greensboro: [('Denver', 1444.15), ('New York', 498.46666666666664), ('Houston', 988.4333333333333), ('Dallas', 979.9333333333333), ('Philadelphia', 417.21666666666664), ('Phoenix', 1870.0666666666666), ('Miami', 702.4666666666667), ('Cleveland', 456.3), ('San Francisco', 2446.3333333333335), ('Nashville', 421.8833333333333), ('Greensboro', 0.0), ('Lincoln', 1101.3333333333333), ('Seattle', 2480.116666666667)]\n",
      "\n",
      "Lincoln: [('Denver', 418.55), ('New York', 1182.7666666666667), ('Houston', 779.4), ('Dallas', 574.5333333333333), ('Philadelphia', 1147.3833333333334), ('Phoenix', 1142.8666666666666), ('Miami', 1480.5166666666667), ('Cleveland', 770.1666666666666), ('San Francisco', 1409.5666666666666), ('Nashville', 700.9833333333333), ('Greensboro', 1099.9833333333333), ('Lincoln', 0.0), ('Seattle', 1457.2)]\n",
      "\n",
      "Seattle: [('Denver', 1161.6333333333334), ('New York', 2536.0), ('Houston', 2077.483333333333), ('Dallas', 1876.6666666666667), ('Philadelphia', 2500.616666666667), ('Phoenix', 1296.8), ('Miami', 2916.3), ('Cleveland', 2123.4), ('San Francisco', 749.5666666666667), ('Nashville', 2136.75), ('Greensboro', 100000), ('Lincoln', 1450.0333333333333), ('Seattle', 0.0)]\n",
      "\n"
     ]
    }
   ],
   "source": [
    "# Calculate distance between all cities  (Takes about 10 minutes for 10 cities)\n",
    "# distance metric is based on the road route between two cities\n",
    "# specifically is the time in minutes it takes to drive between any\n",
    "# two cities. This is based on DistanceMatrix.ai open API. (Which hopefully works...)\n",
    "DistanceMatrix = citiesToDistanceMatrix(locations)\n",
    "for city, info in DistanceMatrix.items() :\n",
    "    print(city + ': ' + str([(name,travel_info['duration']) for name, travel_info in info.items()]) + '\\n')\n"
   ]
  },
  {
   "cell_type": "markdown",
   "metadata": {},
   "source": [
    ">> \n",
    "\n",
    "> Saves the distance matrix to a file, 'DistanceMatrix.json'. To be read by the AMPL solver in the next section."
   ]
  },
  {
   "cell_type": "code",
   "execution_count": 5,
   "metadata": {},
   "outputs": [],
   "source": [
    "# Writes a distance matrix to a json filename.\n",
    "# Later read by AMPL wrapper.\n",
    "if DistanceMatrix != None :\n",
    "    writeToJSON(DistanceMatrix, filename = 'DistanceMatrix.json')\n",
    "#print(JsonToDict('DistanceMatrix.json'))  # Verifies that the file was created correctly and is readable."
   ]
  },
  {
   "cell_type": "markdown",
   "metadata": {},
   "source": [
    "# AMPL Solution"
   ]
  },
  {
   "cell_type": "markdown",
   "metadata": {},
   "source": [
    "> This section runs an AMPL terminal from the notebook. (It may or may not work... if it doesn't, the AMPL files will still be generated and can be run from AMPLIDE).\n",
    "\n",
    "> Frist, AMPL_Wrapper section will make a .dat file called 'TSP_DATA.dat' from the distance matrix JSON file.\n",
    "This will be used by the AMPL solution solver.\n",
    "\n",
    "> The next section starts the AMPL terminal and runs (TSP_MTZ.mod , TSP_DATA.dat , TSP_MTZ.run).\n",
    "\n",
    "> Importantly, in this section, the variable \n",
    "\n",
    ">> path_to_ampl_EXE_Folder\n",
    "\n",
    "> References the path to the folder holding AMPL.exe. Because this is just a wrapper it needs access to AMPL from local computer.\n",
    "\n",
    "> This means to run the AMPL files from the notebook you will need to link your own path to the folder holding AMPL.exe.\n",
    "\n",
    ">> path_to_ampl_EXE_Folder = r'Path to folder holding AMPL.exe'\n",
    "\n",
    "> Also, the full output from the AMPL terminal will likely not load fully in the notebook.\n",
    "However, it will provide an option to open the output in a new text editor. "
   ]
  },
  {
   "cell_type": "code",
   "execution_count": 6,
   "metadata": {},
   "outputs": [],
   "source": [
    "# Makes an AMPL .dat file from the JSON distance matrix data\n",
    "from AMPL_Wrapper import *\n",
    "\n",
    "makeDatFile(data = 'DistanceMatrix.json', outfile = 'TSP_DATA.dat')"
   ]
  },
  {
   "cell_type": "markdown",
   "metadata": {},
   "source": [
    "#### Connect wrapper to AMPL.exe\n",
    "\n",
    "Here to use AMPL on the notebook you need to link to your AMPL application folder.\n",
    "\n",
    " And so in the variable 'path_to_ampl_EXE_Folder' place your local path to the folder containing AMPL.exe.\n",
    "\n",
    ">> >> path_to_ampl_EXE_Folder = r'Path to folder holding AMPL.exe'\n",
    "\n",
    "Then run the cell.\n",
    "\n",
    "> Or you can just run the AMPL files directly from AMPL IDE, outside of the notebook. (They will create a file called TSP_MTZ_TOUR_Results.txt that can be read by the rest of the notebook.)"
   ]
  },
  {
   "cell_type": "code",
   "execution_count": 7,
   "metadata": {},
   "outputs": [
    {
     "name": "stdout",
     "output_type": "stream",
     "text": [
      "CPLEX 20.1.0.0: mipdisplay 2\n",
      "MIP Presolve modified 24 coefficients.\n",
      "Reduced MIP has 170 rows, 168 columns, and 732 nonzeros.\n",
      "Reduced MIP has 156 binaries, 0 generals, 0 SOSs, and 0 indicators.\n",
      "Found incumbent of value 18152.633333 after 0.02 sec. (0.71 ticks)\n",
      "Probing time = 0.00 sec. (0.34 ticks)\n",
      "Cover probing fixed 0 vars, tightened 15 bounds.\n",
      "Detecting symmetries...\n",
      "MIP Presolve eliminated 0 rows and 3 columns.\n",
      "MIP Presolve modified 24 coefficients.\n",
      "Reduced MIP has 170 rows, 165 columns, and 723 nonzeros.\n",
      "Reduced MIP has 153 binaries, 0 generals, 0 SOSs, and 0 indicators.\n",
      "Probing time = 0.00 sec. (0.34 ticks)\n",
      "Cover probing fixed 0 vars, tightened 12 bounds.\n",
      "Clique table members: 89.\n",
      "MIP emphasis: balance optimality and feasibility.\n",
      "MIP search method: dynamic search.\n",
      "Parallel mode: deterministic, using up to 8 threads.\n",
      "Root relaxation solution time = 0.02 sec. (0.42 ticks)\n",
      "\n",
      "        Nodes                                         Cuts/\n",
      "   Node  Left     Objective  IInf  Best Integer    Best Bound    ItCnt     Gap\n",
      "\n",
      "*     0+    0                        18152.6333        0.0000           100.00%\n",
      "      0     0     6535.3727    14    18152.6333     6535.3727       37   64.00%\n",
      "      0     0     7440.9313    22    18152.6333      Cuts: 32       66   59.01%\n",
      "      0     0     7446.9190    26    18152.6333      Cuts: 13       90   58.98%\n",
      "      0     0     7447.6440    26    18152.6333      Cuts: 34       96   58.97%\n",
      "      0     0     7477.2914    27    18152.6333      Cuts: 21      111   58.81%\n",
      "      0     0     7487.4503    32    18152.6333      Cuts: 24      132   58.75%\n",
      "Detecting symmetries...\n",
      "      0     0     7550.2400    29    18152.6333      Cuts: 11      150   58.41%\n",
      "      0     0     7608.8083    22    18152.6333      Cuts: 16      159   58.08%\n",
      "      0     0     7697.5000    18    18152.6333      Cuts: 15      180   57.60%\n",
      "      0     0     7713.5538    12    18152.6333      Cuts: 16      194   57.51%\n",
      "      0     0     7713.5538    12    18152.6333    MIRcuts: 5      195   57.51%\n",
      "      0     0     7713.5538    12    18152.6333    MIRcuts: 5      196   57.51%\n",
      "*     0+    0                         7992.0000     7713.5538             3.48%\n",
      "Detecting symmetries...\n",
      "\n",
      "Repeating presolve.\n",
      "MIP Presolve eliminated 12 rows and 96 columns.\n",
      "Reduced MIP has 156 rows, 67 columns, and 423 nonzeros.\n",
      "Reduced MIP has 55 binaries, 0 generals, 0 SOSs, and 0 indicators.\n",
      "Probing fixed 0 vars, tightened 1 bounds.\n",
      "Probing time = 0.00 sec. (0.08 ticks)\n",
      "Cover probing fixed 0 vars, tightened 7 bounds.\n",
      "Detecting symmetries...\n",
      "Reduced MIP has 156 rows, 67 columns, and 423 nonzeros.\n",
      "Reduced MIP has 55 binaries, 0 generals, 0 SOSs, and 0 indicators.\n",
      "Represolve time = 0.01 sec. (0.83 ticks)\n",
      "Probing time = 0.00 sec. (0.09 ticks)\n",
      "Cover probing fixed 0 vars, tightened 4 bounds.\n",
      "Clique table members: 84.\n",
      "MIP emphasis: balance optimality and feasibility.\n",
      "MIP search method: dynamic search.\n",
      "Parallel mode: deterministic, using up to 8 threads.\n",
      "Root relaxation solution time = 0.00 sec. (0.45 ticks)\n",
      "\n",
      "        Nodes                                         Cuts/\n",
      "   Node  Left     Objective  IInf  Best Integer    Best Bound    ItCnt     Gap\n",
      "\n",
      "*     0+    0                         7992.0000     7744.9250             3.09%\n",
      "      0     0     7713.5538    12     7992.0000     7744.9250      248    3.09%\n",
      "      0     0     7729.1633    15     7992.0000      Cuts: 11      267    3.09%\n",
      "      0     0     7746.5167    15     7992.0000      Cuts: 19      276    3.07%\n",
      "      0     0     7761.1685    12     7992.0000       Cuts: 8      291    2.89%\n",
      "      0     0     7763.6125    12     7992.0000      Cuts: 12      299    2.86%\n",
      "      0     0     7766.1583    12     7992.0000       Cuts: 6      312    2.83%\n",
      "Detecting symmetries...\n",
      "      0     0     7771.3348    19     7992.0000       Cuts: 8      329    2.76%\n",
      "      0     0     7771.3348    19     7992.0000    MIRcuts: 5      331    2.76%\n",
      "      0     0     7771.3348    19     7992.0000    MIRcuts: 3      332    2.76%\n",
      "      0     0        cutoff           7992.0000     7992.0000      332    0.00%\n",
      "Elapsed time = 0.28 sec. (33.58 ticks, tree = 0.01 MB)\n",
      "\n",
      "Clique cuts applied:  4\n",
      "Mixed integer rounding cuts applied:  2\n",
      "Zero-half cuts applied:  10\n",
      "Gomory fractional cuts applied:  1\n",
      "\n",
      "Root node processing (before b&c):\n",
      "  Real time             =    0.28 sec. (33.58 ticks)\n",
      "Parallel b&c, 8 threads:\n",
      "  Real time             =    0.00 sec. (0.00 ticks)\n",
      "  Sync time (average)   =    0.00 sec.\n",
      "  Wait time (average)   =    0.00 sec.\n",
      "                          ------------\n",
      "Total (root+branch&cut) =    0.28 sec. (33.58 ticks)\n",
      "CPLEX 20.1.0.0: optimal integer solution; objective 7992\n",
      "332 MIP simplex iterations\n",
      "0 branch-and-bound nodes\n",
      "X [*,*]\n",
      "# $2 = New_York\n",
      "# $5 = Philadelphia\n",
      "# $6 = Phoenix\n",
      "# $8 = Cleveland\n",
      "# $9 = San_Francisco\n",
      "# $10 = Nashville\n",
      "# $11 = Greensboro\n",
      "# $12 = Lincoln\n",
      "# $13 = Seattle\n",
      ":             Denver  $2 Houston Dallas  $5  $6 Miami  $8  $9 $10 $11 $12 $13 :=\n",
      "Denver           0     0     0      0     0   0    0    0   0   0   0   1   0\n",
      "New_York         0     0     0      0     1   0    0    0   0   0   0   0   0\n",
      "Houston          0     0     0      1     0   0    0    0   0   0   0   0   0\n",
      "Dallas           0     0     0      0     0   1    0    0   0   0   0   0   0\n",
      "Philadelphia     0     0     0      0     0   0    0    0   0   0   1   0   0\n",
      "Phoenix          0     0     0      0     0   0    0    0   1   0   0   0   0\n",
      "Miami            0     0     1      0     0   0    0    0   0   0   0   0   0\n",
      "Cleveland        0     1     0      0     0   0    0    0   0   0   0   0   0\n",
      "San_Francisco    0     0     0      0     0   0    0    0   0   0   0   0   1\n",
      "Nashville        0     0     0      0     0   0    0    1   0   0   0   0   0\n",
      "Greensboro       0     0     0      0     0   0    1    0   0   0   0   0   0\n",
      "Lincoln          0     0     0      0     0   0    0    0   0   1   0   0   0\n",
      "Seattle          1     0     0      0     0   0    0    0   0   0   0   0   0\n",
      ";\n",
      "\n",
      "t [*] :=\n",
      " 1   1\n",
      " 2   5\n",
      " 3   9\n",
      " 4  10\n",
      " 5   6\n",
      " 6  11\n",
      " 7   8\n",
      " 8   4\n",
      " 9  12\n",
      "10   3\n",
      "11   7\n",
      "12   2\n",
      "13  13\n",
      ";\n",
      "\n",
      "tour_cost = 7992\n",
      "\n"
     ]
    }
   ],
   "source": [
    "from amplpy import AMPL\n",
    "from amplpy import Environment\n",
    "\n",
    "#  The following runs ampl commands to find shortest paths. You will need to include your\n",
    "#  file path to the folder containing ampl.exe, or you can just run the .dat/.mod/.run files\n",
    "#  in the ampl ide. (This notebook just tries to automate the processes in one entity)\n",
    "path_to_ampl_EXE_Folder = r'C:\\Users\\IanSi\\Downloads\\amplide.mswin64\\ampl.mswin64'\n",
    "ampl = AMPL(Environment(path_to_ampl_EXE_Folder))\n",
    "\n",
    "# Runs ampl files.\n",
    "#  Note it is likely that the terminal result will not be fully\n",
    "#  displayable in the notebook, and so it will make a new textfile\n",
    "#  that contains the full result.\n",
    "#  This file, TSP_MTZ.run also creates a txt file output with the \n",
    "#  result (the smallest tour.) This text file is called 'TSP_MTZ_TOUR_Result.txt'\n",
    "ampl.read('TSP_MTZ.mod')\n",
    "ampl.read_data('TSP_DATA.dat')\n",
    "ampl.read('TSP_MTZ.run')\n"
   ]
  },
  {
   "cell_type": "markdown",
   "metadata": {},
   "source": [
    "# Display Results"
   ]
  },
  {
   "cell_type": "markdown",
   "metadata": {},
   "source": [
    ">This section displays the result from the AMPL solver.\n",
    "\n",
    ">It will both print a list of the final tour,\n",
    "\n",
    "> and display an image of the tour on a US map"
   ]
  },
  {
   "cell_type": "code",
   "execution_count": 8,
   "metadata": {},
   "outputs": [
    {
     "name": "stdout",
     "output_type": "stream",
     "text": [
      "TOUR\n",
      "Denver --> Lincoln --> Nashville --> Cleveland --> New_York --> Philadelphia --> Greensboro --> Miami --> Houston --> Dallas --> Phoenix --> San_Francisco --> Seattle --> Denver\n"
     ]
    }
   ],
   "source": [
    "#  Prints the tour result from the AMPL solution\n",
    "\n",
    "city_info = []\n",
    "with open('TSP_MTZ_TOUR_Result.txt', 'r') as f:\n",
    "    for line in f :\n",
    "        city_info += [tuple(line.split())]\n",
    "city_info.sort(key = lambda x: int(x[1]))\n",
    "\n",
    "ordered_tour_names = []\n",
    "print('TOUR')\n",
    "tour_string = ''\n",
    "for name,i in city_info :\n",
    "    tour_string += name + ' --> '\n",
    "    ordered_tour_names += [name]\n",
    "ordered_tour_names += [city_info[0][0]]\n",
    "tour_string += city_info[0][0]\n",
    "print(tour_string)\n"
   ]
  },
  {
   "cell_type": "code",
   "execution_count": 9,
   "metadata": {},
   "outputs": [
    {
     "data": {
      "application/vnd.plotly.v1+json": {
       "config": {
        "plotlyServerURL": "https://plot.ly"
       },
       "data": [
        {
         "geo": "geo",
         "hovertemplate": "<b>%{hovertext}</b><br><br>color=0.75<br>lat=%{lat}<br>long=%{lon}<extra></extra>",
         "hovertext": [
          "Denver",
          "Lincoln",
          "Nashville",
          "Cleveland",
          "New York",
          "Philadelphia",
          "Greensboro",
          "Miami",
          "Houston",
          "Dallas",
          "Phoenix",
          "San Francisco",
          "Seattle",
          "Denver"
         ],
         "lat": [
          39.7392364,
          40.8088861,
          36.1622767,
          41.4996574,
          40.7127281,
          39.9527237,
          36.0726355,
          25.7741728,
          29.7589382,
          32.7762719,
          33.4484367,
          37.7790262,
          47.6038321,
          39.7392364
         ],
         "legendgroup": "0.75",
         "line": {
          "color": "#636efa",
          "dash": "solid"
         },
         "lon": [
          -104.984862,
          -96.7077751,
          -86.7742984,
          -81.6936772,
          -74.0060152,
          -75.1635262,
          -79.7919754,
          -80.19362,
          -95.3676974,
          -96.7968559,
          -112.074141,
          -122.419906,
          -122.330062,
          -104.984862
         ],
         "marker": {
          "symbol": "circle"
         },
         "mode": "lines+markers",
         "name": "0.75",
         "showlegend": true,
         "type": "scattergeo"
        }
       ],
       "layout": {
        "geo": {
         "center": {},
         "domain": {
          "x": [
           0,
           1
          ],
          "y": [
           0,
           1
          ]
         },
         "fitbounds": "locations",
         "scope": "usa"
        },
        "legend": {
         "title": {
          "text": "color"
         },
         "tracegroupgap": 0
        },
        "margin": {
         "t": 60
        },
        "template": {
         "data": {
          "bar": [
           {
            "error_x": {
             "color": "#2a3f5f"
            },
            "error_y": {
             "color": "#2a3f5f"
            },
            "marker": {
             "line": {
              "color": "#E5ECF6",
              "width": 0.5
             },
             "pattern": {
              "fillmode": "overlay",
              "size": 10,
              "solidity": 0.2
             }
            },
            "type": "bar"
           }
          ],
          "barpolar": [
           {
            "marker": {
             "line": {
              "color": "#E5ECF6",
              "width": 0.5
             },
             "pattern": {
              "fillmode": "overlay",
              "size": 10,
              "solidity": 0.2
             }
            },
            "type": "barpolar"
           }
          ],
          "carpet": [
           {
            "aaxis": {
             "endlinecolor": "#2a3f5f",
             "gridcolor": "white",
             "linecolor": "white",
             "minorgridcolor": "white",
             "startlinecolor": "#2a3f5f"
            },
            "baxis": {
             "endlinecolor": "#2a3f5f",
             "gridcolor": "white",
             "linecolor": "white",
             "minorgridcolor": "white",
             "startlinecolor": "#2a3f5f"
            },
            "type": "carpet"
           }
          ],
          "choropleth": [
           {
            "colorbar": {
             "outlinewidth": 0,
             "ticks": ""
            },
            "type": "choropleth"
           }
          ],
          "contour": [
           {
            "colorbar": {
             "outlinewidth": 0,
             "ticks": ""
            },
            "colorscale": [
             [
              0,
              "#0d0887"
             ],
             [
              0.1111111111111111,
              "#46039f"
             ],
             [
              0.2222222222222222,
              "#7201a8"
             ],
             [
              0.3333333333333333,
              "#9c179e"
             ],
             [
              0.4444444444444444,
              "#bd3786"
             ],
             [
              0.5555555555555556,
              "#d8576b"
             ],
             [
              0.6666666666666666,
              "#ed7953"
             ],
             [
              0.7777777777777778,
              "#fb9f3a"
             ],
             [
              0.8888888888888888,
              "#fdca26"
             ],
             [
              1,
              "#f0f921"
             ]
            ],
            "type": "contour"
           }
          ],
          "contourcarpet": [
           {
            "colorbar": {
             "outlinewidth": 0,
             "ticks": ""
            },
            "type": "contourcarpet"
           }
          ],
          "heatmap": [
           {
            "colorbar": {
             "outlinewidth": 0,
             "ticks": ""
            },
            "colorscale": [
             [
              0,
              "#0d0887"
             ],
             [
              0.1111111111111111,
              "#46039f"
             ],
             [
              0.2222222222222222,
              "#7201a8"
             ],
             [
              0.3333333333333333,
              "#9c179e"
             ],
             [
              0.4444444444444444,
              "#bd3786"
             ],
             [
              0.5555555555555556,
              "#d8576b"
             ],
             [
              0.6666666666666666,
              "#ed7953"
             ],
             [
              0.7777777777777778,
              "#fb9f3a"
             ],
             [
              0.8888888888888888,
              "#fdca26"
             ],
             [
              1,
              "#f0f921"
             ]
            ],
            "type": "heatmap"
           }
          ],
          "heatmapgl": [
           {
            "colorbar": {
             "outlinewidth": 0,
             "ticks": ""
            },
            "colorscale": [
             [
              0,
              "#0d0887"
             ],
             [
              0.1111111111111111,
              "#46039f"
             ],
             [
              0.2222222222222222,
              "#7201a8"
             ],
             [
              0.3333333333333333,
              "#9c179e"
             ],
             [
              0.4444444444444444,
              "#bd3786"
             ],
             [
              0.5555555555555556,
              "#d8576b"
             ],
             [
              0.6666666666666666,
              "#ed7953"
             ],
             [
              0.7777777777777778,
              "#fb9f3a"
             ],
             [
              0.8888888888888888,
              "#fdca26"
             ],
             [
              1,
              "#f0f921"
             ]
            ],
            "type": "heatmapgl"
           }
          ],
          "histogram": [
           {
            "marker": {
             "pattern": {
              "fillmode": "overlay",
              "size": 10,
              "solidity": 0.2
             }
            },
            "type": "histogram"
           }
          ],
          "histogram2d": [
           {
            "colorbar": {
             "outlinewidth": 0,
             "ticks": ""
            },
            "colorscale": [
             [
              0,
              "#0d0887"
             ],
             [
              0.1111111111111111,
              "#46039f"
             ],
             [
              0.2222222222222222,
              "#7201a8"
             ],
             [
              0.3333333333333333,
              "#9c179e"
             ],
             [
              0.4444444444444444,
              "#bd3786"
             ],
             [
              0.5555555555555556,
              "#d8576b"
             ],
             [
              0.6666666666666666,
              "#ed7953"
             ],
             [
              0.7777777777777778,
              "#fb9f3a"
             ],
             [
              0.8888888888888888,
              "#fdca26"
             ],
             [
              1,
              "#f0f921"
             ]
            ],
            "type": "histogram2d"
           }
          ],
          "histogram2dcontour": [
           {
            "colorbar": {
             "outlinewidth": 0,
             "ticks": ""
            },
            "colorscale": [
             [
              0,
              "#0d0887"
             ],
             [
              0.1111111111111111,
              "#46039f"
             ],
             [
              0.2222222222222222,
              "#7201a8"
             ],
             [
              0.3333333333333333,
              "#9c179e"
             ],
             [
              0.4444444444444444,
              "#bd3786"
             ],
             [
              0.5555555555555556,
              "#d8576b"
             ],
             [
              0.6666666666666666,
              "#ed7953"
             ],
             [
              0.7777777777777778,
              "#fb9f3a"
             ],
             [
              0.8888888888888888,
              "#fdca26"
             ],
             [
              1,
              "#f0f921"
             ]
            ],
            "type": "histogram2dcontour"
           }
          ],
          "mesh3d": [
           {
            "colorbar": {
             "outlinewidth": 0,
             "ticks": ""
            },
            "type": "mesh3d"
           }
          ],
          "parcoords": [
           {
            "line": {
             "colorbar": {
              "outlinewidth": 0,
              "ticks": ""
             }
            },
            "type": "parcoords"
           }
          ],
          "pie": [
           {
            "automargin": true,
            "type": "pie"
           }
          ],
          "scatter": [
           {
            "fillpattern": {
             "fillmode": "overlay",
             "size": 10,
             "solidity": 0.2
            },
            "type": "scatter"
           }
          ],
          "scatter3d": [
           {
            "line": {
             "colorbar": {
              "outlinewidth": 0,
              "ticks": ""
             }
            },
            "marker": {
             "colorbar": {
              "outlinewidth": 0,
              "ticks": ""
             }
            },
            "type": "scatter3d"
           }
          ],
          "scattercarpet": [
           {
            "marker": {
             "colorbar": {
              "outlinewidth": 0,
              "ticks": ""
             }
            },
            "type": "scattercarpet"
           }
          ],
          "scattergeo": [
           {
            "marker": {
             "colorbar": {
              "outlinewidth": 0,
              "ticks": ""
             }
            },
            "type": "scattergeo"
           }
          ],
          "scattergl": [
           {
            "marker": {
             "colorbar": {
              "outlinewidth": 0,
              "ticks": ""
             }
            },
            "type": "scattergl"
           }
          ],
          "scattermapbox": [
           {
            "marker": {
             "colorbar": {
              "outlinewidth": 0,
              "ticks": ""
             }
            },
            "type": "scattermapbox"
           }
          ],
          "scatterpolar": [
           {
            "marker": {
             "colorbar": {
              "outlinewidth": 0,
              "ticks": ""
             }
            },
            "type": "scatterpolar"
           }
          ],
          "scatterpolargl": [
           {
            "marker": {
             "colorbar": {
              "outlinewidth": 0,
              "ticks": ""
             }
            },
            "type": "scatterpolargl"
           }
          ],
          "scatterternary": [
           {
            "marker": {
             "colorbar": {
              "outlinewidth": 0,
              "ticks": ""
             }
            },
            "type": "scatterternary"
           }
          ],
          "surface": [
           {
            "colorbar": {
             "outlinewidth": 0,
             "ticks": ""
            },
            "colorscale": [
             [
              0,
              "#0d0887"
             ],
             [
              0.1111111111111111,
              "#46039f"
             ],
             [
              0.2222222222222222,
              "#7201a8"
             ],
             [
              0.3333333333333333,
              "#9c179e"
             ],
             [
              0.4444444444444444,
              "#bd3786"
             ],
             [
              0.5555555555555556,
              "#d8576b"
             ],
             [
              0.6666666666666666,
              "#ed7953"
             ],
             [
              0.7777777777777778,
              "#fb9f3a"
             ],
             [
              0.8888888888888888,
              "#fdca26"
             ],
             [
              1,
              "#f0f921"
             ]
            ],
            "type": "surface"
           }
          ],
          "table": [
           {
            "cells": {
             "fill": {
              "color": "#EBF0F8"
             },
             "line": {
              "color": "white"
             }
            },
            "header": {
             "fill": {
              "color": "#C8D4E3"
             },
             "line": {
              "color": "white"
             }
            },
            "type": "table"
           }
          ]
         },
         "layout": {
          "annotationdefaults": {
           "arrowcolor": "#2a3f5f",
           "arrowhead": 0,
           "arrowwidth": 1
          },
          "autotypenumbers": "strict",
          "coloraxis": {
           "colorbar": {
            "outlinewidth": 0,
            "ticks": ""
           }
          },
          "colorscale": {
           "diverging": [
            [
             0,
             "#8e0152"
            ],
            [
             0.1,
             "#c51b7d"
            ],
            [
             0.2,
             "#de77ae"
            ],
            [
             0.3,
             "#f1b6da"
            ],
            [
             0.4,
             "#fde0ef"
            ],
            [
             0.5,
             "#f7f7f7"
            ],
            [
             0.6,
             "#e6f5d0"
            ],
            [
             0.7,
             "#b8e186"
            ],
            [
             0.8,
             "#7fbc41"
            ],
            [
             0.9,
             "#4d9221"
            ],
            [
             1,
             "#276419"
            ]
           ],
           "sequential": [
            [
             0,
             "#0d0887"
            ],
            [
             0.1111111111111111,
             "#46039f"
            ],
            [
             0.2222222222222222,
             "#7201a8"
            ],
            [
             0.3333333333333333,
             "#9c179e"
            ],
            [
             0.4444444444444444,
             "#bd3786"
            ],
            [
             0.5555555555555556,
             "#d8576b"
            ],
            [
             0.6666666666666666,
             "#ed7953"
            ],
            [
             0.7777777777777778,
             "#fb9f3a"
            ],
            [
             0.8888888888888888,
             "#fdca26"
            ],
            [
             1,
             "#f0f921"
            ]
           ],
           "sequentialminus": [
            [
             0,
             "#0d0887"
            ],
            [
             0.1111111111111111,
             "#46039f"
            ],
            [
             0.2222222222222222,
             "#7201a8"
            ],
            [
             0.3333333333333333,
             "#9c179e"
            ],
            [
             0.4444444444444444,
             "#bd3786"
            ],
            [
             0.5555555555555556,
             "#d8576b"
            ],
            [
             0.6666666666666666,
             "#ed7953"
            ],
            [
             0.7777777777777778,
             "#fb9f3a"
            ],
            [
             0.8888888888888888,
             "#fdca26"
            ],
            [
             1,
             "#f0f921"
            ]
           ]
          },
          "colorway": [
           "#636efa",
           "#EF553B",
           "#00cc96",
           "#ab63fa",
           "#FFA15A",
           "#19d3f3",
           "#FF6692",
           "#B6E880",
           "#FF97FF",
           "#FECB52"
          ],
          "font": {
           "color": "#2a3f5f"
          },
          "geo": {
           "bgcolor": "white",
           "lakecolor": "white",
           "landcolor": "#E5ECF6",
           "showlakes": true,
           "showland": true,
           "subunitcolor": "white"
          },
          "hoverlabel": {
           "align": "left"
          },
          "hovermode": "closest",
          "mapbox": {
           "style": "light"
          },
          "paper_bgcolor": "white",
          "plot_bgcolor": "#E5ECF6",
          "polar": {
           "angularaxis": {
            "gridcolor": "white",
            "linecolor": "white",
            "ticks": ""
           },
           "bgcolor": "#E5ECF6",
           "radialaxis": {
            "gridcolor": "white",
            "linecolor": "white",
            "ticks": ""
           }
          },
          "scene": {
           "xaxis": {
            "backgroundcolor": "#E5ECF6",
            "gridcolor": "white",
            "gridwidth": 2,
            "linecolor": "white",
            "showbackground": true,
            "ticks": "",
            "zerolinecolor": "white"
           },
           "yaxis": {
            "backgroundcolor": "#E5ECF6",
            "gridcolor": "white",
            "gridwidth": 2,
            "linecolor": "white",
            "showbackground": true,
            "ticks": "",
            "zerolinecolor": "white"
           },
           "zaxis": {
            "backgroundcolor": "#E5ECF6",
            "gridcolor": "white",
            "gridwidth": 2,
            "linecolor": "white",
            "showbackground": true,
            "ticks": "",
            "zerolinecolor": "white"
           }
          },
          "shapedefaults": {
           "line": {
            "color": "#2a3f5f"
           }
          },
          "ternary": {
           "aaxis": {
            "gridcolor": "white",
            "linecolor": "white",
            "ticks": ""
           },
           "baxis": {
            "gridcolor": "white",
            "linecolor": "white",
            "ticks": ""
           },
           "bgcolor": "#E5ECF6",
           "caxis": {
            "gridcolor": "white",
            "linecolor": "white",
            "ticks": ""
           }
          },
          "title": {
           "x": 0.05
          },
          "xaxis": {
           "automargin": true,
           "gridcolor": "white",
           "linecolor": "white",
           "ticks": "",
           "title": {
            "standoff": 15
           },
           "zerolinecolor": "white",
           "zerolinewidth": 2
          },
          "yaxis": {
           "automargin": true,
           "gridcolor": "white",
           "linecolor": "white",
           "ticks": "",
           "title": {
            "standoff": 15
           },
           "zerolinecolor": "white",
           "zerolinewidth": 2
          }
         }
        },
        "title": {
         "text": "US map",
         "x": 0.5
        }
       }
      }
     },
     "metadata": {},
     "output_type": "display_data"
    }
   ],
   "source": [
    "# Displays Optimal Tour\n",
    "\n",
    "# Plots cities\n",
    "import plotly.express as px\n",
    "import plotly.graph_objects as go\n",
    "import pandas as pd\n",
    "import nbformat\n",
    "df = {}\n",
    "for name, coord in locations.items() :\n",
    "    df[name] = {'lat' : coord[0], 'long' : coord[1], 'color' : 0.75, 'size' : 0.5, 'name' : name}\n",
    "tour_info = {}\n",
    "for city in ordered_tour_names :\n",
    "    tour_info[city.replace(\"_\", \" \")] = df[city.replace(\"_\", \" \")]\n",
    "\n",
    "tour_info['final'] = df[ordered_tour_names[0]]\n",
    "\n",
    "\n",
    "fig = px.line_geo(tour_info.values(),lat='lat',lon='long', color = 'color', hover_name = 'name', markers=True)\n",
    "\n",
    "fig.update_geos(fitbounds=\"locations\",scope=\"usa\")\n",
    "fig.update_layout(title = 'TSP MTZ solution on US map', title_x=0.5)\n",
    "fig.show()"
   ]
  },
  {
   "cell_type": "markdown",
   "metadata": {},
   "source": [
    "# Traditional TSP (Only using Local Constraints)"
   ]
  },
  {
   "cell_type": "markdown",
   "metadata": {},
   "source": [
    "The following includes AMPL solution information for running TSP using only local constraints so solutions with sub-tours can be compared to MTZ solutions."
   ]
  },
  {
   "cell_type": "code",
   "execution_count": null,
   "metadata": {},
   "outputs": [],
   "source": [
    "from amplpy import AMPL\n",
    "from amplpy import Environment\n",
    "\n",
    "#  The following runs ampl commands to find shortest paths. You will need to include your\n",
    "#  file path to the folder containing ampl.exe, or you can just run the .dat/.mod/.run files\n",
    "#  in the ampl ide. (This notebook just tries to automate the processes in one entity)\n",
    "\n",
    "ampl = AMPL(Environment(path_to_ampl_EXE_Folder))\n",
    "\n",
    "# Runs ampl files.\n",
    "#  Note it is likely that the terminal result will not be fully\n",
    "#  displayable in the notebook, and so it will make a new textfile\n",
    "#  that contains the full result.\n",
    "#  This file, TSP_MTZ.run also creates a txt file output with the \n",
    "#  result (the smallest tour.) This text file is called 'TSP_MTZ_TOUR_Result.txt'\n",
    "ampl.read('TSP_traditional.mod')\n",
    "ampl.read_data('TSP_DATA.dat')\n",
    "ampl.read('TSP_traditional.run')"
   ]
  }
 ],
 "metadata": {
  "kernelspec": {
   "display_name": "Python 3.9.5 ('env')",
   "language": "python",
   "name": "python3"
  },
  "language_info": {
   "codemirror_mode": {
    "name": "ipython",
    "version": 3
   },
   "file_extension": ".py",
   "mimetype": "text/x-python",
   "name": "python",
   "nbconvert_exporter": "python",
   "pygments_lexer": "ipython3",
   "version": "3.9.5"
  },
  "orig_nbformat": 4,
  "vscode": {
   "interpreter": {
    "hash": "d5fb93e730a9118187d9d0ee050b3d2ad25e85df2cdb01c2356a272c02d72f35"
   }
  }
 },
 "nbformat": 4,
 "nbformat_minor": 2
}
